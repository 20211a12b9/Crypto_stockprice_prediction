{
 "cells": [
  {
   "cell_type": "code",
   "execution_count": 1,
   "id": "46252b3a",
   "metadata": {},
   "outputs": [],
   "source": [
    "import numpy as np\n",
    "import pandas as pd\n",
    "import matplotlib.pyplot as plt"
   ]
  },
  {
   "cell_type": "code",
   "execution_count": 2,
   "id": "8267dad0",
   "metadata": {},
   "outputs": [],
   "source": [
    "df=pd.read_csv('crypto.csv')"
   ]
  },
  {
   "cell_type": "code",
   "execution_count": 3,
   "id": "ae3b7930",
   "metadata": {},
   "outputs": [
    {
     "data": {
      "text/html": [
       "<div>\n",
       "<style scoped>\n",
       "    .dataframe tbody tr th:only-of-type {\n",
       "        vertical-align: middle;\n",
       "    }\n",
       "\n",
       "    .dataframe tbody tr th {\n",
       "        vertical-align: top;\n",
       "    }\n",
       "\n",
       "    .dataframe thead th {\n",
       "        text-align: right;\n",
       "    }\n",
       "</style>\n",
       "<table border=\"1\" class=\"dataframe\">\n",
       "  <thead>\n",
       "    <tr style=\"text-align: right;\">\n",
       "      <th></th>\n",
       "      <th>Unnamed: 0</th>\n",
       "      <th>names</th>\n",
       "      <th>price</th>\n",
       "      <th>change</th>\n",
       "      <th>pchange</th>\n",
       "      <th>Volume in Currency (Since 0:00 UTC)</th>\n",
       "      <th>Volume in Currency (24Hr)</th>\n",
       "      <th>Total Volume All Currencies (24Hr)</th>\n",
       "      <th>Circulating Supply</th>\n",
       "    </tr>\n",
       "  </thead>\n",
       "  <tbody>\n",
       "    <tr>\n",
       "      <th>0</th>\n",
       "      <td>0</td>\n",
       "      <td>BTC-USD</td>\n",
       "      <td>67,187.45</td>\n",
       "      <td>341.5600</td>\n",
       "      <td>+0.51%</td>\n",
       "      <td>42.336B</td>\n",
       "      <td>42.336B</td>\n",
       "      <td>42.336B</td>\n",
       "      <td>19.648M</td>\n",
       "    </tr>\n",
       "    <tr>\n",
       "      <th>1</th>\n",
       "      <td>1</td>\n",
       "      <td>ETH-USD</td>\n",
       "      <td>3,939.72</td>\n",
       "      <td>141.7600</td>\n",
       "      <td>+3.73%</td>\n",
       "      <td>21.356B</td>\n",
       "      <td>21.356B</td>\n",
       "      <td>21.356B</td>\n",
       "      <td>120.109M</td>\n",
       "    </tr>\n",
       "    <tr>\n",
       "      <th>2</th>\n",
       "      <td>2</td>\n",
       "      <td>USDT-USD</td>\n",
       "      <td>1.0019</td>\n",
       "      <td>0.0015</td>\n",
       "      <td>+0.15%</td>\n",
       "      <td>87.892B</td>\n",
       "      <td>87.892B</td>\n",
       "      <td>87.892B</td>\n",
       "      <td>101.045B</td>\n",
       "    </tr>\n",
       "    <tr>\n",
       "      <th>3</th>\n",
       "      <td>3</td>\n",
       "      <td>BNB-USD</td>\n",
       "      <td>471.33</td>\n",
       "      <td>39.2900</td>\n",
       "      <td>+9.09%</td>\n",
       "      <td>3.485B</td>\n",
       "      <td>3.485B</td>\n",
       "      <td>3.485B</td>\n",
       "      <td>149.541M</td>\n",
       "    </tr>\n",
       "    <tr>\n",
       "      <th>4</th>\n",
       "      <td>4</td>\n",
       "      <td>SOL-USD</td>\n",
       "      <td>145.80</td>\n",
       "      <td>4.7200</td>\n",
       "      <td>+3.35%</td>\n",
       "      <td>5.735B</td>\n",
       "      <td>5.735B</td>\n",
       "      <td>5.735B</td>\n",
       "      <td>443.132M</td>\n",
       "    </tr>\n",
       "  </tbody>\n",
       "</table>\n",
       "</div>"
      ],
      "text/plain": [
       "   Unnamed: 0     names      price    change pchange  \\\n",
       "0           0   BTC-USD  67,187.45  341.5600  +0.51%   \n",
       "1           1   ETH-USD   3,939.72  141.7600  +3.73%   \n",
       "2           2  USDT-USD     1.0019    0.0015  +0.15%   \n",
       "3           3   BNB-USD     471.33   39.2900  +9.09%   \n",
       "4           4   SOL-USD     145.80    4.7200  +3.35%   \n",
       "\n",
       "  Volume in Currency (Since 0:00 UTC) Volume in Currency (24Hr)  \\\n",
       "0                             42.336B                   42.336B   \n",
       "1                             21.356B                   21.356B   \n",
       "2                             87.892B                   87.892B   \n",
       "3                              3.485B                    3.485B   \n",
       "4                              5.735B                    5.735B   \n",
       "\n",
       "  Total Volume All Currencies (24Hr) Circulating Supply  \n",
       "0                            42.336B            19.648M  \n",
       "1                            21.356B           120.109M  \n",
       "2                            87.892B           101.045B  \n",
       "3                             3.485B           149.541M  \n",
       "4                             5.735B           443.132M  "
      ]
     },
     "execution_count": 3,
     "metadata": {},
     "output_type": "execute_result"
    }
   ],
   "source": [
    "df.head()"
   ]
  },
  {
   "cell_type": "code",
   "execution_count": 4,
   "id": "20f71e1f",
   "metadata": {},
   "outputs": [],
   "source": [
    "df.drop(columns='Unnamed: 0',axis=1,inplace=True)"
   ]
  },
  {
   "cell_type": "code",
   "execution_count": 5,
   "id": "5fe81a82",
   "metadata": {},
   "outputs": [
    {
     "data": {
      "text/html": [
       "<div>\n",
       "<style scoped>\n",
       "    .dataframe tbody tr th:only-of-type {\n",
       "        vertical-align: middle;\n",
       "    }\n",
       "\n",
       "    .dataframe tbody tr th {\n",
       "        vertical-align: top;\n",
       "    }\n",
       "\n",
       "    .dataframe thead th {\n",
       "        text-align: right;\n",
       "    }\n",
       "</style>\n",
       "<table border=\"1\" class=\"dataframe\">\n",
       "  <thead>\n",
       "    <tr style=\"text-align: right;\">\n",
       "      <th></th>\n",
       "      <th>names</th>\n",
       "      <th>price</th>\n",
       "      <th>change</th>\n",
       "      <th>pchange</th>\n",
       "      <th>Volume in Currency (Since 0:00 UTC)</th>\n",
       "      <th>Volume in Currency (24Hr)</th>\n",
       "      <th>Total Volume All Currencies (24Hr)</th>\n",
       "      <th>Circulating Supply</th>\n",
       "    </tr>\n",
       "  </thead>\n",
       "  <tbody>\n",
       "    <tr>\n",
       "      <th>0</th>\n",
       "      <td>BTC-USD</td>\n",
       "      <td>67,187.45</td>\n",
       "      <td>341.5600</td>\n",
       "      <td>+0.51%</td>\n",
       "      <td>42.336B</td>\n",
       "      <td>42.336B</td>\n",
       "      <td>42.336B</td>\n",
       "      <td>19.648M</td>\n",
       "    </tr>\n",
       "    <tr>\n",
       "      <th>1</th>\n",
       "      <td>ETH-USD</td>\n",
       "      <td>3,939.72</td>\n",
       "      <td>141.7600</td>\n",
       "      <td>+3.73%</td>\n",
       "      <td>21.356B</td>\n",
       "      <td>21.356B</td>\n",
       "      <td>21.356B</td>\n",
       "      <td>120.109M</td>\n",
       "    </tr>\n",
       "    <tr>\n",
       "      <th>2</th>\n",
       "      <td>USDT-USD</td>\n",
       "      <td>1.0019</td>\n",
       "      <td>0.0015</td>\n",
       "      <td>+0.15%</td>\n",
       "      <td>87.892B</td>\n",
       "      <td>87.892B</td>\n",
       "      <td>87.892B</td>\n",
       "      <td>101.045B</td>\n",
       "    </tr>\n",
       "    <tr>\n",
       "      <th>3</th>\n",
       "      <td>BNB-USD</td>\n",
       "      <td>471.33</td>\n",
       "      <td>39.2900</td>\n",
       "      <td>+9.09%</td>\n",
       "      <td>3.485B</td>\n",
       "      <td>3.485B</td>\n",
       "      <td>3.485B</td>\n",
       "      <td>149.541M</td>\n",
       "    </tr>\n",
       "    <tr>\n",
       "      <th>4</th>\n",
       "      <td>SOL-USD</td>\n",
       "      <td>145.80</td>\n",
       "      <td>4.7200</td>\n",
       "      <td>+3.35%</td>\n",
       "      <td>5.735B</td>\n",
       "      <td>5.735B</td>\n",
       "      <td>5.735B</td>\n",
       "      <td>443.132M</td>\n",
       "    </tr>\n",
       "  </tbody>\n",
       "</table>\n",
       "</div>"
      ],
      "text/plain": [
       "      names      price    change pchange Volume in Currency (Since 0:00 UTC)  \\\n",
       "0   BTC-USD  67,187.45  341.5600  +0.51%                             42.336B   \n",
       "1   ETH-USD   3,939.72  141.7600  +3.73%                             21.356B   \n",
       "2  USDT-USD     1.0019    0.0015  +0.15%                             87.892B   \n",
       "3   BNB-USD     471.33   39.2900  +9.09%                              3.485B   \n",
       "4   SOL-USD     145.80    4.7200  +3.35%                              5.735B   \n",
       "\n",
       "  Volume in Currency (24Hr) Total Volume All Currencies (24Hr)  \\\n",
       "0                   42.336B                            42.336B   \n",
       "1                   21.356B                            21.356B   \n",
       "2                   87.892B                            87.892B   \n",
       "3                    3.485B                             3.485B   \n",
       "4                    5.735B                             5.735B   \n",
       "\n",
       "  Circulating Supply  \n",
       "0            19.648M  \n",
       "1           120.109M  \n",
       "2           101.045B  \n",
       "3           149.541M  \n",
       "4           443.132M  "
      ]
     },
     "execution_count": 5,
     "metadata": {},
     "output_type": "execute_result"
    }
   ],
   "source": [
    "df.head()"
   ]
  },
  {
   "cell_type": "code",
   "execution_count": 6,
   "id": "7bfbc531",
   "metadata": {},
   "outputs": [
    {
     "data": {
      "text/plain": [
       "names                                   object\n",
       "price                                   object\n",
       "change                                 float64\n",
       "pchange                                 object\n",
       "Volume in Currency (Since 0:00 UTC)     object\n",
       "Volume in Currency (24Hr)               object\n",
       "Total Volume All Currencies (24Hr)      object\n",
       "Circulating Supply                      object\n",
       "dtype: object"
      ]
     },
     "execution_count": 6,
     "metadata": {},
     "output_type": "execute_result"
    }
   ],
   "source": [
    "df.dtypes"
   ]
  },
  {
   "cell_type": "code",
   "execution_count": 7,
   "id": "a31abf3c",
   "metadata": {},
   "outputs": [
    {
     "data": {
      "text/plain": [
       "names                                  0\n",
       "price                                  0\n",
       "change                                 0\n",
       "pchange                                0\n",
       "Volume in Currency (Since 0:00 UTC)    0\n",
       "Volume in Currency (24Hr)              0\n",
       "Total Volume All Currencies (24Hr)     0\n",
       "Circulating Supply                     0\n",
       "dtype: int64"
      ]
     },
     "execution_count": 7,
     "metadata": {},
     "output_type": "execute_result"
    }
   ],
   "source": [
    "df.isnull().sum()"
   ]
  },
  {
   "cell_type": "code",
   "execution_count": 8,
   "id": "290e8dd8",
   "metadata": {},
   "outputs": [],
   "source": [
    "df['price']=df['price'].str.replace(',','')"
   ]
  },
  {
   "cell_type": "code",
   "execution_count": 9,
   "id": "f2dcdbd5",
   "metadata": {},
   "outputs": [],
   "source": [
    "df['price']=df['price'].astype(float)"
   ]
  },
  {
   "cell_type": "code",
   "execution_count": 10,
   "id": "40163d51",
   "metadata": {},
   "outputs": [],
   "source": [
    "df['change']=df['change'].astype(float)"
   ]
  },
  {
   "cell_type": "code",
   "execution_count": 11,
   "id": "debfced7",
   "metadata": {},
   "outputs": [
    {
     "name": "stderr",
     "output_type": "stream",
     "text": [
      "C:\\Users\\chowd\\AppData\\Local\\Temp\\ipykernel_7756\\3488544896.py:1: FutureWarning: The default value of regex will change from True to False in a future version. In addition, single character regular expressions will *not* be treated as literal strings when regex=True.\n",
      "  df['pchange']=df['pchange'].str.replace('+','')\n"
     ]
    }
   ],
   "source": [
    "df['pchange']=df['pchange'].str.replace('+','')"
   ]
  },
  {
   "cell_type": "code",
   "execution_count": 12,
   "id": "06ea61a3",
   "metadata": {},
   "outputs": [],
   "source": [
    "df['pchange']=df['pchange'].str.replace('%','')\n"
   ]
  },
  {
   "cell_type": "code",
   "execution_count": 13,
   "id": "d1efa014",
   "metadata": {},
   "outputs": [],
   "source": [
    "df['pchange']=df['pchange'].astype(float)"
   ]
  },
  {
   "cell_type": "code",
   "execution_count": 14,
   "id": "6a1c5d3c",
   "metadata": {},
   "outputs": [],
   "source": [
    "df['Volume in Currency (Since 0:00 UTC)']=df['Volume in Currency (Since 0:00 UTC)'].str.replace('B','')"
   ]
  },
  {
   "cell_type": "code",
   "execution_count": 15,
   "id": "e2a9d6be",
   "metadata": {},
   "outputs": [],
   "source": [
    "df['Volume in Currency (Since 0:00 UTC)']=df['Volume in Currency (Since 0:00 UTC)'].str.replace('M','')"
   ]
  },
  {
   "cell_type": "code",
   "execution_count": 16,
   "id": "3e94f448",
   "metadata": {},
   "outputs": [],
   "source": [
    "df['Volume in Currency (Since 0:00 UTC)']=df['Volume in Currency (Since 0:00 UTC)'].astype(float)"
   ]
  },
  {
   "cell_type": "code",
   "execution_count": 17,
   "id": "f43ebac6",
   "metadata": {},
   "outputs": [
    {
     "data": {
      "text/plain": [
       "42.336B     4\n",
       "1.4M        4\n",
       "587.506M    4\n",
       "647.659M    4\n",
       "195.853M    4\n",
       "716.724M    4\n",
       "356.306M    4\n",
       "87.142M     4\n",
       "425.682M    4\n",
       "685.899M    4\n",
       "477.684M    4\n",
       "347.729M    4\n",
       "456.798M    4\n",
       "21.356B     4\n",
       "685.096M    4\n",
       "3.523B      4\n",
       "3.058B      4\n",
       "796.991M    4\n",
       "9.803B      4\n",
       "1.96B       4\n",
       "54.317M     4\n",
       "5.735B      4\n",
       "3.485B      4\n",
       "87.892B     4\n",
       "630.26M     4\n",
       "Name: Volume in Currency (24Hr), dtype: int64"
      ]
     },
     "execution_count": 17,
     "metadata": {},
     "output_type": "execute_result"
    }
   ],
   "source": [
    "df['Volume in Currency (24Hr)'].value_counts()"
   ]
  },
  {
   "cell_type": "code",
   "execution_count": 18,
   "id": "5d9f70ec",
   "metadata": {},
   "outputs": [],
   "source": [
    "df['Volume in Currency (24Hr)']=df['Volume in Currency (24Hr)'].str.replace('M','')\n",
    "df['Volume in Currency (24Hr)']=df['Volume in Currency (24Hr)'].str.replace('B','')"
   ]
  },
  {
   "cell_type": "code",
   "execution_count": 19,
   "id": "987d63ec",
   "metadata": {},
   "outputs": [],
   "source": [
    "df['Volume in Currency (24Hr)']=df['Volume in Currency (24Hr)'].astype(float)"
   ]
  },
  {
   "cell_type": "code",
   "execution_count": 20,
   "id": "d68a5677",
   "metadata": {},
   "outputs": [
    {
     "data": {
      "text/plain": [
       "42.336B     4\n",
       "1.4M        4\n",
       "587.506M    4\n",
       "647.659M    4\n",
       "195.853M    4\n",
       "716.724M    4\n",
       "356.306M    4\n",
       "87.142M     4\n",
       "425.682M    4\n",
       "685.899M    4\n",
       "477.684M    4\n",
       "347.729M    4\n",
       "456.798M    4\n",
       "21.356B     4\n",
       "685.096M    4\n",
       "3.523B      4\n",
       "3.058B      4\n",
       "796.991M    4\n",
       "9.803B      4\n",
       "1.96B       4\n",
       "54.317M     4\n",
       "5.735B      4\n",
       "3.485B      4\n",
       "87.892B     4\n",
       "630.26M     4\n",
       "Name: Total Volume All Currencies (24Hr), dtype: int64"
      ]
     },
     "execution_count": 20,
     "metadata": {},
     "output_type": "execute_result"
    }
   ],
   "source": [
    "df['Total Volume All Currencies (24Hr)'].value_counts()"
   ]
  },
  {
   "cell_type": "code",
   "execution_count": 21,
   "id": "521ef509",
   "metadata": {},
   "outputs": [],
   "source": [
    "df['Total Volume All Currencies (24Hr)']=df['Total Volume All Currencies (24Hr)'].str.replace('M','')\n",
    "df['Total Volume All Currencies (24Hr)']=df['Total Volume All Currencies (24Hr)'].str.replace('B','')\n",
    "df['Total Volume All Currencies (24Hr)']=df['Total Volume All Currencies (24Hr)'].astype(float)"
   ]
  },
  {
   "cell_type": "code",
   "execution_count": 22,
   "id": "6640aab0",
   "metadata": {},
   "outputs": [],
   "source": [
    "df['Circulating Supply']=df['Circulating Supply'].str.replace('M','')\n",
    "df['Circulating Supply']=df['Circulating Supply'].str.replace('B','')\n",
    "df['Circulating Supply']=df['Circulating Supply'].str.replace('T','')\n",
    "df['Circulating Supply']=df['Circulating Supply'].str.replace(',','')\n",
    "df['Circulating Supply']=df['Circulating Supply'].astype(float)"
   ]
  },
  {
   "cell_type": "code",
   "execution_count": 23,
   "id": "b127921d",
   "metadata": {},
   "outputs": [],
   "source": [
    "from sklearn.preprocessing import LabelEncoder\n",
    "label=LabelEncoder()\n",
    "df['names']=label.fit_transform(df['names'])"
   ]
  },
  {
   "cell_type": "code",
   "execution_count": 24,
   "id": "fded2dfe",
   "metadata": {},
   "outputs": [
    {
     "data": {
      "text/plain": [
       "names                                    int32\n",
       "price                                  float64\n",
       "change                                 float64\n",
       "pchange                                float64\n",
       "Volume in Currency (Since 0:00 UTC)    float64\n",
       "Volume in Currency (24Hr)              float64\n",
       "Total Volume All Currencies (24Hr)     float64\n",
       "Circulating Supply                     float64\n",
       "dtype: object"
      ]
     },
     "execution_count": 24,
     "metadata": {},
     "output_type": "execute_result"
    }
   ],
   "source": [
    "df.dtypes"
   ]
  },
  {
   "cell_type": "code",
   "execution_count": 25,
   "id": "1cb59b65",
   "metadata": {},
   "outputs": [
    {
     "data": {
      "text/html": [
       "<div>\n",
       "<style scoped>\n",
       "    .dataframe tbody tr th:only-of-type {\n",
       "        vertical-align: middle;\n",
       "    }\n",
       "\n",
       "    .dataframe tbody tr th {\n",
       "        vertical-align: top;\n",
       "    }\n",
       "\n",
       "    .dataframe thead th {\n",
       "        text-align: right;\n",
       "    }\n",
       "</style>\n",
       "<table border=\"1\" class=\"dataframe\">\n",
       "  <thead>\n",
       "    <tr style=\"text-align: right;\">\n",
       "      <th></th>\n",
       "      <th>names</th>\n",
       "      <th>price</th>\n",
       "      <th>change</th>\n",
       "      <th>pchange</th>\n",
       "      <th>Volume in Currency (Since 0:00 UTC)</th>\n",
       "      <th>Volume in Currency (24Hr)</th>\n",
       "      <th>Total Volume All Currencies (24Hr)</th>\n",
       "      <th>Circulating Supply</th>\n",
       "    </tr>\n",
       "  </thead>\n",
       "  <tbody>\n",
       "    <tr>\n",
       "      <th>0</th>\n",
       "      <td>4</td>\n",
       "      <td>67187.4500</td>\n",
       "      <td>341.5600</td>\n",
       "      <td>0.51</td>\n",
       "      <td>42.336</td>\n",
       "      <td>42.336</td>\n",
       "      <td>42.336</td>\n",
       "      <td>19.648</td>\n",
       "    </tr>\n",
       "    <tr>\n",
       "      <th>1</th>\n",
       "      <td>8</td>\n",
       "      <td>3939.7200</td>\n",
       "      <td>141.7600</td>\n",
       "      <td>3.73</td>\n",
       "      <td>21.356</td>\n",
       "      <td>21.356</td>\n",
       "      <td>21.356</td>\n",
       "      <td>120.109</td>\n",
       "    </tr>\n",
       "    <tr>\n",
       "      <th>2</th>\n",
       "      <td>21</td>\n",
       "      <td>1.0019</td>\n",
       "      <td>0.0015</td>\n",
       "      <td>0.15</td>\n",
       "      <td>87.892</td>\n",
       "      <td>87.892</td>\n",
       "      <td>87.892</td>\n",
       "      <td>101.045</td>\n",
       "    </tr>\n",
       "    <tr>\n",
       "      <th>3</th>\n",
       "      <td>3</td>\n",
       "      <td>471.3300</td>\n",
       "      <td>39.2900</td>\n",
       "      <td>9.09</td>\n",
       "      <td>3.485</td>\n",
       "      <td>3.485</td>\n",
       "      <td>3.485</td>\n",
       "      <td>149.541</td>\n",
       "    </tr>\n",
       "    <tr>\n",
       "      <th>4</th>\n",
       "      <td>15</td>\n",
       "      <td>145.8000</td>\n",
       "      <td>4.7200</td>\n",
       "      <td>3.35</td>\n",
       "      <td>5.735</td>\n",
       "      <td>5.735</td>\n",
       "      <td>5.735</td>\n",
       "      <td>443.132</td>\n",
       "    </tr>\n",
       "  </tbody>\n",
       "</table>\n",
       "</div>"
      ],
      "text/plain": [
       "   names       price    change  pchange  Volume in Currency (Since 0:00 UTC)  \\\n",
       "0      4  67187.4500  341.5600     0.51                               42.336   \n",
       "1      8   3939.7200  141.7600     3.73                               21.356   \n",
       "2     21      1.0019    0.0015     0.15                               87.892   \n",
       "3      3    471.3300   39.2900     9.09                                3.485   \n",
       "4     15    145.8000    4.7200     3.35                                5.735   \n",
       "\n",
       "   Volume in Currency (24Hr)  Total Volume All Currencies (24Hr)  \\\n",
       "0                     42.336                              42.336   \n",
       "1                     21.356                              21.356   \n",
       "2                     87.892                              87.892   \n",
       "3                      3.485                               3.485   \n",
       "4                      5.735                               5.735   \n",
       "\n",
       "   Circulating Supply  \n",
       "0              19.648  \n",
       "1             120.109  \n",
       "2             101.045  \n",
       "3             149.541  \n",
       "4             443.132  "
      ]
     },
     "execution_count": 25,
     "metadata": {},
     "output_type": "execute_result"
    }
   ],
   "source": [
    "df.head()"
   ]
  },
  {
   "cell_type": "code",
   "execution_count": 26,
   "id": "9d1bc7a4",
   "metadata": {},
   "outputs": [],
   "source": [
    "#\"Volume in Currency (24Hr)\" refers to the total trading volume of the respective cryptocurrency over the past 24 hours;\n",
    "#Volume in Currency (Since 0:00 UTC)\"refers to the total amount of the respective cryptocurrency traded, expressed in terms of a specific fiat currency, since the start of the day at 0:00 UTC (Coordinated Universal Time)."
   ]
  },
  {
   "cell_type": "code",
   "execution_count": 27,
   "id": "5df736fc",
   "metadata": {},
   "outputs": [],
   "source": [
    "##Total Volume All Currencies (24Hr) measures the overall trading activity across all cryptocurrencies combined in the market.\n",
    "##Volume in Currency (24Hr) measures the trading activity of a specific cryptocurrency (or fiat currency) individually."
   ]
  },
  {
   "cell_type": "code",
   "execution_count": 28,
   "id": "68a0beff",
   "metadata": {},
   "outputs": [],
   "source": [
    "#\"Circulating Supply\" in a cryptocurrency context refers to the total number of units of a particular cryptocurrency that are currently in circulation and available to the public for buying, selling, and trading. "
   ]
  },
  {
   "cell_type": "code",
   "execution_count": 29,
   "id": "fc0a06e4",
   "metadata": {},
   "outputs": [],
   "source": [
    "from sklearn.model_selection import train_test_split\n",
    "from sklearn.linear_model import LogisticRegression\n",
    "from sklearn.metrics import accuracy_score"
   ]
  },
  {
   "cell_type": "code",
   "execution_count": 30,
   "id": "84a3ecc0",
   "metadata": {},
   "outputs": [],
   "source": [
    "X=df.drop(columns='price',axis=1)\n",
    "Y=df['price']"
   ]
  },
  {
   "cell_type": "code",
   "execution_count": 31,
   "id": "894f1885",
   "metadata": {},
   "outputs": [
    {
     "data": {
      "text/html": [
       "<div>\n",
       "<style scoped>\n",
       "    .dataframe tbody tr th:only-of-type {\n",
       "        vertical-align: middle;\n",
       "    }\n",
       "\n",
       "    .dataframe tbody tr th {\n",
       "        vertical-align: top;\n",
       "    }\n",
       "\n",
       "    .dataframe thead th {\n",
       "        text-align: right;\n",
       "    }\n",
       "</style>\n",
       "<table border=\"1\" class=\"dataframe\">\n",
       "  <thead>\n",
       "    <tr style=\"text-align: right;\">\n",
       "      <th></th>\n",
       "      <th>names</th>\n",
       "      <th>change</th>\n",
       "      <th>pchange</th>\n",
       "      <th>Volume in Currency (Since 0:00 UTC)</th>\n",
       "      <th>Volume in Currency (24Hr)</th>\n",
       "      <th>Total Volume All Currencies (24Hr)</th>\n",
       "      <th>Circulating Supply</th>\n",
       "    </tr>\n",
       "  </thead>\n",
       "  <tbody>\n",
       "    <tr>\n",
       "      <th>0</th>\n",
       "      <td>4</td>\n",
       "      <td>341.5600</td>\n",
       "      <td>0.51</td>\n",
       "      <td>42.336</td>\n",
       "      <td>42.336</td>\n",
       "      <td>42.336</td>\n",
       "      <td>19.648</td>\n",
       "    </tr>\n",
       "    <tr>\n",
       "      <th>1</th>\n",
       "      <td>8</td>\n",
       "      <td>141.7600</td>\n",
       "      <td>3.73</td>\n",
       "      <td>21.356</td>\n",
       "      <td>21.356</td>\n",
       "      <td>21.356</td>\n",
       "      <td>120.109</td>\n",
       "    </tr>\n",
       "    <tr>\n",
       "      <th>2</th>\n",
       "      <td>21</td>\n",
       "      <td>0.0015</td>\n",
       "      <td>0.15</td>\n",
       "      <td>87.892</td>\n",
       "      <td>87.892</td>\n",
       "      <td>87.892</td>\n",
       "      <td>101.045</td>\n",
       "    </tr>\n",
       "    <tr>\n",
       "      <th>3</th>\n",
       "      <td>3</td>\n",
       "      <td>39.2900</td>\n",
       "      <td>9.09</td>\n",
       "      <td>3.485</td>\n",
       "      <td>3.485</td>\n",
       "      <td>3.485</td>\n",
       "      <td>149.541</td>\n",
       "    </tr>\n",
       "    <tr>\n",
       "      <th>4</th>\n",
       "      <td>15</td>\n",
       "      <td>4.7200</td>\n",
       "      <td>3.35</td>\n",
       "      <td>5.735</td>\n",
       "      <td>5.735</td>\n",
       "      <td>5.735</td>\n",
       "      <td>443.132</td>\n",
       "    </tr>\n",
       "    <tr>\n",
       "      <th>...</th>\n",
       "      <td>...</td>\n",
       "      <td>...</td>\n",
       "      <td>...</td>\n",
       "      <td>...</td>\n",
       "      <td>...</td>\n",
       "      <td>...</td>\n",
       "      <td>...</td>\n",
       "    </tr>\n",
       "    <tr>\n",
       "      <th>95</th>\n",
       "      <td>2</td>\n",
       "      <td>24.3500</td>\n",
       "      <td>5.94</td>\n",
       "      <td>716.724</td>\n",
       "      <td>716.724</td>\n",
       "      <td>716.724</td>\n",
       "      <td>19.663</td>\n",
       "    </tr>\n",
       "    <tr>\n",
       "      <th>96</th>\n",
       "      <td>9</td>\n",
       "      <td>-0.1600</td>\n",
       "      <td>-1.10</td>\n",
       "      <td>195.853</td>\n",
       "      <td>195.853</td>\n",
       "      <td>195.853</td>\n",
       "      <td>459.973</td>\n",
       "    </tr>\n",
       "    <tr>\n",
       "      <th>97</th>\n",
       "      <td>11</td>\n",
       "      <td>2.1500</td>\n",
       "      <td>2.52</td>\n",
       "      <td>647.659</td>\n",
       "      <td>647.659</td>\n",
       "      <td>647.659</td>\n",
       "      <td>74.287</td>\n",
       "    </tr>\n",
       "    <tr>\n",
       "      <th>98</th>\n",
       "      <td>7</td>\n",
       "      <td>1.9600</td>\n",
       "      <td>5.33</td>\n",
       "      <td>587.506</td>\n",
       "      <td>587.506</td>\n",
       "      <td>587.506</td>\n",
       "      <td>145.926</td>\n",
       "    </tr>\n",
       "    <tr>\n",
       "      <th>99</th>\n",
       "      <td>13</td>\n",
       "      <td>-0.3343</td>\n",
       "      <td>-5.85</td>\n",
       "      <td>630.260</td>\n",
       "      <td>630.260</td>\n",
       "      <td>630.260</td>\n",
       "      <td>1.044</td>\n",
       "    </tr>\n",
       "  </tbody>\n",
       "</table>\n",
       "<p>100 rows × 7 columns</p>\n",
       "</div>"
      ],
      "text/plain": [
       "    names    change  pchange  Volume in Currency (Since 0:00 UTC)  \\\n",
       "0       4  341.5600     0.51                               42.336   \n",
       "1       8  141.7600     3.73                               21.356   \n",
       "2      21    0.0015     0.15                               87.892   \n",
       "3       3   39.2900     9.09                                3.485   \n",
       "4      15    4.7200     3.35                                5.735   \n",
       "..    ...       ...      ...                                  ...   \n",
       "95      2   24.3500     5.94                              716.724   \n",
       "96      9   -0.1600    -1.10                              195.853   \n",
       "97     11    2.1500     2.52                              647.659   \n",
       "98      7    1.9600     5.33                              587.506   \n",
       "99     13   -0.3343    -5.85                              630.260   \n",
       "\n",
       "    Volume in Currency (24Hr)  Total Volume All Currencies (24Hr)  \\\n",
       "0                      42.336                              42.336   \n",
       "1                      21.356                              21.356   \n",
       "2                      87.892                              87.892   \n",
       "3                       3.485                               3.485   \n",
       "4                       5.735                               5.735   \n",
       "..                        ...                                 ...   \n",
       "95                    716.724                             716.724   \n",
       "96                    195.853                             195.853   \n",
       "97                    647.659                             647.659   \n",
       "98                    587.506                             587.506   \n",
       "99                    630.260                             630.260   \n",
       "\n",
       "    Circulating Supply  \n",
       "0               19.648  \n",
       "1              120.109  \n",
       "2              101.045  \n",
       "3              149.541  \n",
       "4              443.132  \n",
       "..                 ...  \n",
       "95              19.663  \n",
       "96             459.973  \n",
       "97              74.287  \n",
       "98             145.926  \n",
       "99               1.044  \n",
       "\n",
       "[100 rows x 7 columns]"
      ]
     },
     "execution_count": 31,
     "metadata": {},
     "output_type": "execute_result"
    }
   ],
   "source": [
    "X"
   ]
  },
  {
   "cell_type": "code",
   "execution_count": 32,
   "id": "2eed9e61",
   "metadata": {},
   "outputs": [
    {
     "data": {
      "text/plain": [
       "0     67187.4500\n",
       "1      3939.7200\n",
       "2         1.0019\n",
       "3       471.3300\n",
       "4       145.8000\n",
       "         ...    \n",
       "95      434.0500\n",
       "96       14.5900\n",
       "97       87.5100\n",
       "98       38.7900\n",
       "99        5.3781\n",
       "Name: price, Length: 100, dtype: float64"
      ]
     },
     "execution_count": 32,
     "metadata": {},
     "output_type": "execute_result"
    }
   ],
   "source": [
    "Y"
   ]
  },
  {
   "cell_type": "code",
   "execution_count": 33,
   "id": "cbc71335",
   "metadata": {},
   "outputs": [],
   "source": [
    "X_train, X_test, Y_train, Y_test = train_test_split(X, Y, test_size = 0.1, random_state=1)"
   ]
  },
  {
   "cell_type": "code",
   "execution_count": 34,
   "id": "a785d924",
   "metadata": {},
   "outputs": [],
   "source": [
    "from sklearn.ensemble import RandomForestRegressor\n",
    "from sklearn.metrics import mean_squared_error, mean_absolute_error"
   ]
  },
  {
   "cell_type": "code",
   "execution_count": 35,
   "id": "dc0e09c5",
   "metadata": {},
   "outputs": [],
   "source": [
    "model = RandomForestRegressor(n_estimators=100, random_state=42)"
   ]
  },
  {
   "cell_type": "code",
   "execution_count": 36,
   "id": "c97fa46a",
   "metadata": {},
   "outputs": [
    {
     "data": {
      "text/html": [
       "<style>#sk-container-id-1 {color: black;background-color: white;}#sk-container-id-1 pre{padding: 0;}#sk-container-id-1 div.sk-toggleable {background-color: white;}#sk-container-id-1 label.sk-toggleable__label {cursor: pointer;display: block;width: 100%;margin-bottom: 0;padding: 0.3em;box-sizing: border-box;text-align: center;}#sk-container-id-1 label.sk-toggleable__label-arrow:before {content: \"▸\";float: left;margin-right: 0.25em;color: #696969;}#sk-container-id-1 label.sk-toggleable__label-arrow:hover:before {color: black;}#sk-container-id-1 div.sk-estimator:hover label.sk-toggleable__label-arrow:before {color: black;}#sk-container-id-1 div.sk-toggleable__content {max-height: 0;max-width: 0;overflow: hidden;text-align: left;background-color: #f0f8ff;}#sk-container-id-1 div.sk-toggleable__content pre {margin: 0.2em;color: black;border-radius: 0.25em;background-color: #f0f8ff;}#sk-container-id-1 input.sk-toggleable__control:checked~div.sk-toggleable__content {max-height: 200px;max-width: 100%;overflow: auto;}#sk-container-id-1 input.sk-toggleable__control:checked~label.sk-toggleable__label-arrow:before {content: \"▾\";}#sk-container-id-1 div.sk-estimator input.sk-toggleable__control:checked~label.sk-toggleable__label {background-color: #d4ebff;}#sk-container-id-1 div.sk-label input.sk-toggleable__control:checked~label.sk-toggleable__label {background-color: #d4ebff;}#sk-container-id-1 input.sk-hidden--visually {border: 0;clip: rect(1px 1px 1px 1px);clip: rect(1px, 1px, 1px, 1px);height: 1px;margin: -1px;overflow: hidden;padding: 0;position: absolute;width: 1px;}#sk-container-id-1 div.sk-estimator {font-family: monospace;background-color: #f0f8ff;border: 1px dotted black;border-radius: 0.25em;box-sizing: border-box;margin-bottom: 0.5em;}#sk-container-id-1 div.sk-estimator:hover {background-color: #d4ebff;}#sk-container-id-1 div.sk-parallel-item::after {content: \"\";width: 100%;border-bottom: 1px solid gray;flex-grow: 1;}#sk-container-id-1 div.sk-label:hover label.sk-toggleable__label {background-color: #d4ebff;}#sk-container-id-1 div.sk-serial::before {content: \"\";position: absolute;border-left: 1px solid gray;box-sizing: border-box;top: 0;bottom: 0;left: 50%;z-index: 0;}#sk-container-id-1 div.sk-serial {display: flex;flex-direction: column;align-items: center;background-color: white;padding-right: 0.2em;padding-left: 0.2em;position: relative;}#sk-container-id-1 div.sk-item {position: relative;z-index: 1;}#sk-container-id-1 div.sk-parallel {display: flex;align-items: stretch;justify-content: center;background-color: white;position: relative;}#sk-container-id-1 div.sk-item::before, #sk-container-id-1 div.sk-parallel-item::before {content: \"\";position: absolute;border-left: 1px solid gray;box-sizing: border-box;top: 0;bottom: 0;left: 50%;z-index: -1;}#sk-container-id-1 div.sk-parallel-item {display: flex;flex-direction: column;z-index: 1;position: relative;background-color: white;}#sk-container-id-1 div.sk-parallel-item:first-child::after {align-self: flex-end;width: 50%;}#sk-container-id-1 div.sk-parallel-item:last-child::after {align-self: flex-start;width: 50%;}#sk-container-id-1 div.sk-parallel-item:only-child::after {width: 0;}#sk-container-id-1 div.sk-dashed-wrapped {border: 1px dashed gray;margin: 0 0.4em 0.5em 0.4em;box-sizing: border-box;padding-bottom: 0.4em;background-color: white;}#sk-container-id-1 div.sk-label label {font-family: monospace;font-weight: bold;display: inline-block;line-height: 1.2em;}#sk-container-id-1 div.sk-label-container {text-align: center;}#sk-container-id-1 div.sk-container {/* jupyter's `normalize.less` sets `[hidden] { display: none; }` but bootstrap.min.css set `[hidden] { display: none !important; }` so we also need the `!important` here to be able to override the default hidden behavior on the sphinx rendered scikit-learn.org. See: https://github.com/scikit-learn/scikit-learn/issues/21755 */display: inline-block !important;position: relative;}#sk-container-id-1 div.sk-text-repr-fallback {display: none;}</style><div id=\"sk-container-id-1\" class=\"sk-top-container\"><div class=\"sk-text-repr-fallback\"><pre>RandomForestRegressor(random_state=42)</pre><b>In a Jupyter environment, please rerun this cell to show the HTML representation or trust the notebook. <br />On GitHub, the HTML representation is unable to render, please try loading this page with nbviewer.org.</b></div><div class=\"sk-container\" hidden><div class=\"sk-item\"><div class=\"sk-estimator sk-toggleable\"><input class=\"sk-toggleable__control sk-hidden--visually\" id=\"sk-estimator-id-1\" type=\"checkbox\" checked><label for=\"sk-estimator-id-1\" class=\"sk-toggleable__label sk-toggleable__label-arrow\">RandomForestRegressor</label><div class=\"sk-toggleable__content\"><pre>RandomForestRegressor(random_state=42)</pre></div></div></div></div></div>"
      ],
      "text/plain": [
       "RandomForestRegressor(random_state=42)"
      ]
     },
     "execution_count": 36,
     "metadata": {},
     "output_type": "execute_result"
    }
   ],
   "source": [
    "model.fit(X_train, Y_train)"
   ]
  },
  {
   "cell_type": "code",
   "execution_count": 37,
   "id": "e3eebd7a",
   "metadata": {},
   "outputs": [],
   "source": [
    "predictions = model.predict(X_test)"
   ]
  },
  {
   "cell_type": "code",
   "execution_count": 38,
   "id": "afc2467d",
   "metadata": {},
   "outputs": [
    {
     "data": {
      "text/plain": [
       "array([3.93070870e+03, 2.22847220e-01, 5.25398244e+00, 6.04552240e-01,\n",
       "       2.75252274e+00, 6.74958033e+04, 4.60422740e+01, 9.73569410e-01,\n",
       "       1.45356145e+01, 1.94772756e+01])"
      ]
     },
     "execution_count": 38,
     "metadata": {},
     "output_type": "execute_result"
    }
   ],
   "source": [
    "predictions"
   ]
  },
  {
   "cell_type": "code",
   "execution_count": 39,
   "id": "30608d69",
   "metadata": {},
   "outputs": [
    {
     "name": "stdout",
     "output_type": "stream",
     "text": [
      "Mean Squared Error: 11.86048499804438\n",
      "Mean Absolute Error: 1.8088439160078458\n"
     ]
    }
   ],
   "source": [
    "mse = mean_squared_error(Y_test, predictions)\n",
    "mae = mean_absolute_error(Y_test, predictions)\n",
    "\n",
    "print(\"Mean Squared Error:\", mse)\n",
    "print(\"Mean Absolute Error:\", mae)"
   ]
  },
  {
   "cell_type": "code",
   "execution_count": 40,
   "id": "561d00e5",
   "metadata": {},
   "outputs": [
    {
     "name": "stdout",
     "output_type": "stream",
     "text": [
      "R-squared (R2) Score: 0.9999999707935708\n"
     ]
    }
   ],
   "source": [
    "from sklearn.metrics import r2_score\n",
    "r2 = r2_score(Y_test, predictions)\n",
    "print(\"R-squared (R2) Score:\", r2)"
   ]
  },
  {
   "cell_type": "code",
   "execution_count": 41,
   "id": "8bc4af95",
   "metadata": {},
   "outputs": [
    {
     "name": "stdout",
     "output_type": "stream",
     "text": [
      "[66554.9727]\n"
     ]
    },
    {
     "name": "stderr",
     "output_type": "stream",
     "text": [
      "C:\\Users\\chowd\\anaconda3\\lib\\site-packages\\sklearn\\base.py:420: UserWarning: X does not have valid feature names, but RandomForestRegressor was fitted with feature names\n",
      "  warnings.warn(\n"
     ]
    }
   ],
   "source": [
    "input=(4,341.56,0.51,42.336,42.336,42.336,19.648)\n",
    "\n",
    "input1 = np.asarray(input)\n",
    "\n",
    "# reshape the np array as we are predicting for one instance\n",
    "input_data_reshaped = input1.reshape(1,-1)\n",
    "\n",
    "prediction = model.predict(input_data_reshaped)\n",
    "print(prediction)\n"
   ]
  },
  {
   "cell_type": "code",
   "execution_count": 42,
   "id": "0f13b6a0",
   "metadata": {},
   "outputs": [
    {
     "name": "stdout",
     "output_type": "stream",
     "text": [
      "[3938.8839]\n"
     ]
    },
    {
     "name": "stderr",
     "output_type": "stream",
     "text": [
      "C:\\Users\\chowd\\anaconda3\\lib\\site-packages\\sklearn\\base.py:420: UserWarning: X does not have valid feature names, but RandomForestRegressor was fitted with feature names\n",
      "  warnings.warn(\n"
     ]
    }
   ],
   "source": [
    "input=(8,141.76,3,21.356,21.356,21.356,120.109)\n",
    "\n",
    "input1 = np.asarray(input)\n",
    "\n",
    "# reshape the np array as we are predicting for one instance\n",
    "input_data_reshaped = input1.reshape(1,-1)\n",
    "\n",
    "prediction = model.predict(input_data_reshaped)\n",
    "print(prediction)"
   ]
  },
  {
   "cell_type": "code",
   "execution_count": 43,
   "id": "12405811",
   "metadata": {},
   "outputs": [
    {
     "name": "stdout",
     "output_type": "stream",
     "text": [
      "Collecting xgboost\n",
      "  Downloading xgboost-2.0.3-py3-none-win_amd64.whl (99.8 MB)\n",
      "     ---------------------------------------- 99.8/99.8 MB 1.2 MB/s eta 0:00:00\n",
      "Requirement already satisfied: scipy in c:\\users\\chowd\\anaconda3\\lib\\site-packages (from xgboost) (1.10.0)\n",
      "Requirement already satisfied: numpy in c:\\users\\chowd\\anaconda3\\lib\\site-packages (from xgboost) (1.23.5)\n",
      "Installing collected packages: xgboost\n",
      "Successfully installed xgboost-2.0.3\n",
      "Note: you may need to restart the kernel to use updated packages.\n"
     ]
    }
   ],
   "source": [
    "pip install xgboost"
   ]
  },
  {
   "cell_type": "code",
   "execution_count": 46,
   "id": "e6a91e39",
   "metadata": {},
   "outputs": [
    {
     "name": "stdout",
     "output_type": "stream",
     "text": [
      "Mean Squared Error: 30.486869877247738\n",
      "R-squared (R2) Score: 0.9999999249261218\n"
     ]
    }
   ],
   "source": [
    "from sklearn.model_selection import train_test_split\n",
    "from xgboost import XGBRegressor\n",
    "from sklearn.metrics import mean_squared_error\n",
    "from sklearn.metrics import r2_score\n",
    "\n",
    "model = XGBRegressor(n_estimators=100, learning_rate=0.1, random_state=42)\n",
    "model.fit(X_train, Y_train)\n",
    "xbpredictions = model.predict(X_test)\n",
    "mse = mean_squared_error(Y_test, xbpredictions)\n",
    "print(\"Mean Squared Error:\", mse)\n",
    "r2 = r2_score(Y_test, predictions)\n",
    "print(\"R-squared (R2) Score:\", r2)"
   ]
  },
  {
   "cell_type": "code",
   "execution_count": 47,
   "id": "0f635b9d",
   "metadata": {},
   "outputs": [
    {
     "name": "stdout",
     "output_type": "stream",
     "text": [
      "[67181.24]\n"
     ]
    }
   ],
   "source": [
    "input=(4,341.56,0.51,42.336,42.336,42.336,19.648)\n",
    "\n",
    "input1 = np.asarray(input)\n",
    "\n",
    "# reshape the np array as we are predicting for one instance\n",
    "input_data_reshaped = input1.reshape(1,-1)\n",
    "\n",
    "xbprediction = model.predict(input_data_reshaped)\n",
    "print(xbprediction)"
   ]
  },
  {
   "cell_type": "code",
   "execution_count": 48,
   "id": "367d24cc",
   "metadata": {},
   "outputs": [
    {
     "name": "stdout",
     "output_type": "stream",
     "text": [
      "[3939.7876]\n"
     ]
    }
   ],
   "source": [
    "input=(8,141.76,3,21.356,21.356,21.356,120.109)\n",
    "\n",
    "input1 = np.asarray(input)\n",
    "\n",
    "# reshape the np array as we are predicting for one instance\n",
    "input_data_reshaped = input1.reshape(1,-1)\n",
    "\n",
    "xbprediction = model.predict(input_data_reshaped)\n",
    "print(xbprediction)"
   ]
  },
  {
   "cell_type": "markdown",
   "id": "9a68ddfb",
   "metadata": {},
   "source": [
    "# Saving my Model"
   ]
  },
  {
   "cell_type": "code",
   "execution_count": 50,
   "id": "32fb7c0d",
   "metadata": {},
   "outputs": [],
   "source": [
    "import pickle"
   ]
  },
  {
   "cell_type": "code",
   "execution_count": 51,
   "id": "b88580a7",
   "metadata": {},
   "outputs": [],
   "source": [
    "filename='crypto.sav'\n",
    "pickle.dump(model,open(filename,'wb'))"
   ]
  },
  {
   "cell_type": "code",
   "execution_count": 52,
   "id": "9e0f78d1",
   "metadata": {},
   "outputs": [],
   "source": [
    "load_data=pickle.load(open('crypto.sav','rb'))"
   ]
  },
  {
   "cell_type": "code",
   "execution_count": 53,
   "id": "81fa9b2f",
   "metadata": {},
   "outputs": [
    {
     "name": "stdout",
     "output_type": "stream",
     "text": [
      "[3939.7876]\n"
     ]
    }
   ],
   "source": [
    "input=(8,141.76,3,21.356,21.356,21.356,120.109)\n",
    "\n",
    "input1 = np.asarray(input)\n",
    "\n",
    "# reshape the np array as we are predicting for one instance\n",
    "input_data_reshaped = input1.reshape(1,-1)\n",
    "\n",
    "xbprediction = load_data.predict(input_data_reshaped)\n",
    "print(xbprediction)"
   ]
  },
  {
   "cell_type": "code",
   "execution_count": null,
   "id": "3b64c1e2",
   "metadata": {},
   "outputs": [],
   "source": []
  }
 ],
 "metadata": {
  "kernelspec": {
   "display_name": "Python 3 (ipykernel)",
   "language": "python",
   "name": "python3"
  },
  "language_info": {
   "codemirror_mode": {
    "name": "ipython",
    "version": 3
   },
   "file_extension": ".py",
   "mimetype": "text/x-python",
   "name": "python",
   "nbconvert_exporter": "python",
   "pygments_lexer": "ipython3",
   "version": "3.11.4"
  }
 },
 "nbformat": 4,
 "nbformat_minor": 5
}
