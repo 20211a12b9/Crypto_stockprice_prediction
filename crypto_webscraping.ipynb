{
 "cells": [
  {
   "cell_type": "code",
   "execution_count": 1,
   "id": "2f13baaf",
   "metadata": {},
   "outputs": [],
   "source": [
    "import requests"
   ]
  },
  {
   "cell_type": "code",
   "execution_count": 2,
   "id": "592377b1",
   "metadata": {},
   "outputs": [],
   "source": [
    "from bs4 import BeautifulSoup as bs"
   ]
  },
  {
   "cell_type": "code",
   "execution_count": 3,
   "id": "b6f1c4b8",
   "metadata": {},
   "outputs": [],
   "source": [
    "link=\"https://finance.yahoo.com/crypto/\""
   ]
  },
  {
   "cell_type": "code",
   "execution_count": 4,
   "id": "6bb56e01",
   "metadata": {},
   "outputs": [],
   "source": [
    "page=requests.get(link)"
   ]
  },
  {
   "cell_type": "code",
   "execution_count": 5,
   "id": "4f76856e",
   "metadata": {},
   "outputs": [
    {
     "data": {
      "text/plain": [
       "<Response [200]>"
      ]
     },
     "execution_count": 5,
     "metadata": {},
     "output_type": "execute_result"
    }
   ],
   "source": [
    "page"
   ]
  },
  {
   "cell_type": "code",
   "execution_count": 6,
   "id": "6eb2ff98",
   "metadata": {},
   "outputs": [],
   "source": [
    "soup=bs(page.content,'html.parser')"
   ]
  },
  {
   "cell_type": "code",
   "execution_count": 7,
   "id": "37d4394e",
   "metadata": {},
   "outputs": [],
   "source": [
    "articles=soup.find_all(class_='W(100%)')"
   ]
  },
  {
   "cell_type": "code",
   "execution_count": 8,
   "id": "2bb19c9f",
   "metadata": {},
   "outputs": [],
   "source": [
    "\n",
    "names=[]\n",
    "name=[]\n",
    "price=[]\n",
    "change=[]\n",
    "pchange=[]\n",
    "market=[]\n",
    "v1=[]\n",
    "v2=[]\n",
    "v3=[]\n",
    "cs=[]\n",
    "for article in articles:\n",
    "    names=article.select('[aria-label=Symbol]')\n",
    "    if len(names) >0:\n",
    "        for n in names:\n",
    "            name.append(n.get_text())\n",
    "    names=article.select('[aria-label=\"Price (Intraday)\"]')\n",
    "    if len(names) >0:\n",
    "        for n in names:\n",
    "            price.append((n.get_text()))\n",
    "    names=article.select('[aria-label=\"Change\"]')\n",
    "    if len(names) >0:\n",
    "        for n in names:\n",
    "            change.append((n.get_text()))\n",
    "    names=article.select('[aria-label=\"% Change\"]')\n",
    "    if len(names) >0:\n",
    "        for n in names:\n",
    "            pchange.append((n.get_text()))\n",
    "    names=article.select('[aria-label=\"Market Cap\"]')\n",
    "    if len(names) >0:\n",
    "        for n in names:\n",
    "            market.append((n.get_text()))\n",
    "    names=article.select('[aria-label=\"Volume in Currency (Since 0:00 UTC)\"]')\n",
    "    if len(names) >0:\n",
    "        for n in names:\n",
    "            v1.append((n.get_text()))\n",
    "    names=article.select('[aria-label=\"Volume in Currency (24Hr)\"]')\n",
    "    if len(names) >0:\n",
    "        for n in names:\n",
    "            v2.append((n.get_text()))\n",
    "    names=article.select('[aria-label=\"Total Volume All Currencies (24Hr)\"]')\n",
    "    if len(names) >0:\n",
    "        for n in names:\n",
    "            v3.append((n.get_text()))\n",
    "    names=article.select('[aria-label=\"Circulating Supply\"]')\n",
    "    if len(names) >0:\n",
    "        for n in names:\n",
    "            cs.append((n.get_text()))\n",
    "    "
   ]
  },
  {
   "cell_type": "code",
   "execution_count": 9,
   "id": "af630657",
   "metadata": {},
   "outputs": [],
   "source": [
    "import pandas as pd"
   ]
  },
  {
   "cell_type": "code",
   "execution_count": 10,
   "id": "af78dd38",
   "metadata": {},
   "outputs": [],
   "source": [
    "df=pd.DataFrame()"
   ]
  },
  {
   "cell_type": "code",
   "execution_count": 11,
   "id": "576dd5dd",
   "metadata": {},
   "outputs": [],
   "source": [
    "df['names']=name\n",
    "df['price']=price\n",
    "df['change']=change\n",
    "df['pchange']=pchange\n",
    "df['Volume in Currency (Since 0:00 UTC)']=v1\n",
    "df['Volume in Currency (24Hr)']=v2\n",
    "df['Total Volume All Currencies (24Hr)']=v3\n",
    "df['Circulating Supply']=cs"
   ]
  },
  {
   "cell_type": "code",
   "execution_count": 12,
   "id": "746a624e",
   "metadata": {},
   "outputs": [
    {
     "data": {
      "text/html": [
       "<div>\n",
       "<style scoped>\n",
       "    .dataframe tbody tr th:only-of-type {\n",
       "        vertical-align: middle;\n",
       "    }\n",
       "\n",
       "    .dataframe tbody tr th {\n",
       "        vertical-align: top;\n",
       "    }\n",
       "\n",
       "    .dataframe thead th {\n",
       "        text-align: right;\n",
       "    }\n",
       "</style>\n",
       "<table border=\"1\" class=\"dataframe\">\n",
       "  <thead>\n",
       "    <tr style=\"text-align: right;\">\n",
       "      <th></th>\n",
       "      <th>names</th>\n",
       "      <th>price</th>\n",
       "      <th>change</th>\n",
       "      <th>pchange</th>\n",
       "      <th>Volume in Currency (Since 0:00 UTC)</th>\n",
       "      <th>Volume in Currency (24Hr)</th>\n",
       "      <th>Total Volume All Currencies (24Hr)</th>\n",
       "      <th>Circulating Supply</th>\n",
       "    </tr>\n",
       "  </thead>\n",
       "  <tbody>\n",
       "    <tr>\n",
       "      <th>0</th>\n",
       "      <td>BTC-USD</td>\n",
       "      <td>67,187.45</td>\n",
       "      <td>+341.56</td>\n",
       "      <td>+0.51%</td>\n",
       "      <td>42.336B</td>\n",
       "      <td>42.336B</td>\n",
       "      <td>42.336B</td>\n",
       "      <td>19.648M</td>\n",
       "    </tr>\n",
       "    <tr>\n",
       "      <th>1</th>\n",
       "      <td>ETH-USD</td>\n",
       "      <td>3,939.72</td>\n",
       "      <td>+141.76</td>\n",
       "      <td>+3.73%</td>\n",
       "      <td>21.356B</td>\n",
       "      <td>21.356B</td>\n",
       "      <td>21.356B</td>\n",
       "      <td>120.109M</td>\n",
       "    </tr>\n",
       "    <tr>\n",
       "      <th>2</th>\n",
       "      <td>USDT-USD</td>\n",
       "      <td>1.0019</td>\n",
       "      <td>+0.0015</td>\n",
       "      <td>+0.15%</td>\n",
       "      <td>87.892B</td>\n",
       "      <td>87.892B</td>\n",
       "      <td>87.892B</td>\n",
       "      <td>101.045B</td>\n",
       "    </tr>\n",
       "    <tr>\n",
       "      <th>3</th>\n",
       "      <td>BNB-USD</td>\n",
       "      <td>471.33</td>\n",
       "      <td>+39.29</td>\n",
       "      <td>+9.09%</td>\n",
       "      <td>3.485B</td>\n",
       "      <td>3.485B</td>\n",
       "      <td>3.485B</td>\n",
       "      <td>149.541M</td>\n",
       "    </tr>\n",
       "    <tr>\n",
       "      <th>4</th>\n",
       "      <td>SOL-USD</td>\n",
       "      <td>145.80</td>\n",
       "      <td>+4.72</td>\n",
       "      <td>+3.35%</td>\n",
       "      <td>5.735B</td>\n",
       "      <td>5.735B</td>\n",
       "      <td>5.735B</td>\n",
       "      <td>443.132M</td>\n",
       "    </tr>\n",
       "    <tr>\n",
       "      <th>...</th>\n",
       "      <td>...</td>\n",
       "      <td>...</td>\n",
       "      <td>...</td>\n",
       "      <td>...</td>\n",
       "      <td>...</td>\n",
       "      <td>...</td>\n",
       "      <td>...</td>\n",
       "      <td>...</td>\n",
       "    </tr>\n",
       "    <tr>\n",
       "      <th>95</th>\n",
       "      <td>BCH-USD</td>\n",
       "      <td>434.05</td>\n",
       "      <td>+24.35</td>\n",
       "      <td>+5.94%</td>\n",
       "      <td>716.724M</td>\n",
       "      <td>716.724M</td>\n",
       "      <td>716.724M</td>\n",
       "      <td>19.663M</td>\n",
       "    </tr>\n",
       "    <tr>\n",
       "      <th>96</th>\n",
       "      <td>ICP-USD</td>\n",
       "      <td>14.59</td>\n",
       "      <td>-0.16</td>\n",
       "      <td>-1.10%</td>\n",
       "      <td>195.853M</td>\n",
       "      <td>195.853M</td>\n",
       "      <td>195.853M</td>\n",
       "      <td>459.973M</td>\n",
       "    </tr>\n",
       "    <tr>\n",
       "      <th>97</th>\n",
       "      <td>LTC-USD</td>\n",
       "      <td>87.51</td>\n",
       "      <td>+2.15</td>\n",
       "      <td>+2.52%</td>\n",
       "      <td>647.659M</td>\n",
       "      <td>647.659M</td>\n",
       "      <td>647.659M</td>\n",
       "      <td>74.287M</td>\n",
       "    </tr>\n",
       "    <tr>\n",
       "      <th>98</th>\n",
       "      <td>ETC-USD</td>\n",
       "      <td>38.79</td>\n",
       "      <td>+1.96</td>\n",
       "      <td>+5.33%</td>\n",
       "      <td>587.506M</td>\n",
       "      <td>587.506M</td>\n",
       "      <td>587.506M</td>\n",
       "      <td>145.926M</td>\n",
       "    </tr>\n",
       "    <tr>\n",
       "      <th>99</th>\n",
       "      <td>NEAR-USD</td>\n",
       "      <td>5.3781</td>\n",
       "      <td>-0.3343</td>\n",
       "      <td>-5.85%</td>\n",
       "      <td>630.26M</td>\n",
       "      <td>630.26M</td>\n",
       "      <td>630.26M</td>\n",
       "      <td>1.044B</td>\n",
       "    </tr>\n",
       "  </tbody>\n",
       "</table>\n",
       "<p>100 rows × 8 columns</p>\n",
       "</div>"
      ],
      "text/plain": [
       "       names      price   change pchange Volume in Currency (Since 0:00 UTC)  \\\n",
       "0    BTC-USD  67,187.45  +341.56  +0.51%                             42.336B   \n",
       "1    ETH-USD   3,939.72  +141.76  +3.73%                             21.356B   \n",
       "2   USDT-USD     1.0019  +0.0015  +0.15%                             87.892B   \n",
       "3    BNB-USD     471.33   +39.29  +9.09%                              3.485B   \n",
       "4    SOL-USD     145.80    +4.72  +3.35%                              5.735B   \n",
       "..       ...        ...      ...     ...                                 ...   \n",
       "95   BCH-USD     434.05   +24.35  +5.94%                            716.724M   \n",
       "96   ICP-USD      14.59    -0.16  -1.10%                            195.853M   \n",
       "97   LTC-USD      87.51    +2.15  +2.52%                            647.659M   \n",
       "98   ETC-USD      38.79    +1.96  +5.33%                            587.506M   \n",
       "99  NEAR-USD     5.3781  -0.3343  -5.85%                             630.26M   \n",
       "\n",
       "   Volume in Currency (24Hr) Total Volume All Currencies (24Hr)  \\\n",
       "0                    42.336B                            42.336B   \n",
       "1                    21.356B                            21.356B   \n",
       "2                    87.892B                            87.892B   \n",
       "3                     3.485B                             3.485B   \n",
       "4                     5.735B                             5.735B   \n",
       "..                       ...                                ...   \n",
       "95                  716.724M                           716.724M   \n",
       "96                  195.853M                           195.853M   \n",
       "97                  647.659M                           647.659M   \n",
       "98                  587.506M                           587.506M   \n",
       "99                   630.26M                            630.26M   \n",
       "\n",
       "   Circulating Supply  \n",
       "0             19.648M  \n",
       "1            120.109M  \n",
       "2            101.045B  \n",
       "3            149.541M  \n",
       "4            443.132M  \n",
       "..                ...  \n",
       "95            19.663M  \n",
       "96           459.973M  \n",
       "97            74.287M  \n",
       "98           145.926M  \n",
       "99             1.044B  \n",
       "\n",
       "[100 rows x 8 columns]"
      ]
     },
     "execution_count": 12,
     "metadata": {},
     "output_type": "execute_result"
    }
   ],
   "source": [
    "df"
   ]
  },
  {
   "cell_type": "code",
   "execution_count": 13,
   "id": "285b4cde",
   "metadata": {},
   "outputs": [],
   "source": [
    "df.to_csv('crypto.csv')"
   ]
  },
  {
   "cell_type": "code",
   "execution_count": null,
   "id": "1328abd6",
   "metadata": {},
   "outputs": [],
   "source": []
  },
  {
   "cell_type": "code",
   "execution_count": null,
   "id": "09d6fb5f",
   "metadata": {},
   "outputs": [],
   "source": []
  },
  {
   "cell_type": "code",
   "execution_count": null,
   "id": "6bc527f8",
   "metadata": {},
   "outputs": [],
   "source": []
  },
  {
   "cell_type": "code",
   "execution_count": null,
   "id": "b872eddc",
   "metadata": {},
   "outputs": [],
   "source": []
  }
 ],
 "metadata": {
  "kernelspec": {
   "display_name": "Python 3 (ipykernel)",
   "language": "python",
   "name": "python3"
  },
  "language_info": {
   "codemirror_mode": {
    "name": "ipython",
    "version": 3
   },
   "file_extension": ".py",
   "mimetype": "text/x-python",
   "name": "python",
   "nbconvert_exporter": "python",
   "pygments_lexer": "ipython3",
   "version": "3.11.4"
  }
 },
 "nbformat": 4,
 "nbformat_minor": 5
}
